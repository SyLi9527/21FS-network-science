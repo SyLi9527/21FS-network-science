{
 "cells": [
  {
   "cell_type": "code",
   "execution_count": 1,
   "id": "b922cc33",
   "metadata": {},
   "outputs": [],
   "source": [
    "import networkx as nx"
   ]
  },
  {
   "cell_type": "code",
   "execution_count": 7,
   "id": "c002975d",
   "metadata": {},
   "outputs": [],
   "source": [
    "# creating undirected graph\n",
    "g = nx.Graph()\n",
    "\n",
    "# adding 4 nodes\n",
    "g.add_node(1)\n",
    "g.add_node(2)\n",
    "g.add_node(3)\n",
    "g.add_node(4)\n",
    "\n",
    "# adding 4 edges\n",
    "g.add_edge(1, 2)\n",
    "g.add_edge(2, 3)\n",
    "g.add_edge(3, 4)\n",
    "g.add_edge(4, 1)"
   ]
  },
  {
   "cell_type": "code",
   "execution_count": 6,
   "id": "8557af56",
   "metadata": {},
   "outputs": [
    {
     "data": {
      "image/png": "[encoded data removed]",
      "text/plain": [
       "<Figure size 432x288 with 1 Axes>"
      ]
     },
     "metadata": {},
     "output_type": "display_data"
    }
   ],
   "source": [
    "nx.draw(g, with_labels = True)"
   ]
  },
  {
   "cell_type": "code",
   "execution_count": 12,
   "id": "97f1b9af",
   "metadata": {},
   "outputs": [
    {
     "name": "stdout",
     "output_type": "stream",
     "text": [
      "av. degree: 2.0 density: 0.67\n"
     ]
    }
   ],
   "source": [
    "# calculations according to your answer in the forum\n",
    "\n",
    "avdegree = 2 * g.number_of_edges()/g.number_of_nodes()\n",
    "\n",
    "density = (avdegree/(g.number_of_nodes() - 1))\n",
    "\n",
    "print(\"{} {} {} {}\".format('av. degree:', avdegree, 'density:', round(density, 2)))"
   ]
  },
  {
   "cell_type": "code",
   "execution_count": 14,
   "id": "68206c2b",
   "metadata": {},
   "outputs": [
    {
     "data": {
      "text/plain": [
       "array([[0, 1, 0, 1],\n",
       "       [1, 0, 1, 0],\n",
       "       [0, 1, 0, 1],\n",
       "       [1, 0, 1, 0]])"
      ]
     },
     "execution_count": 14,
     "metadata": {},
     "output_type": "execute_result"
    }
   ],
   "source": [
    "# calculations according to the slides\n",
    "# density = 2L/N*(N-1)\n",
    "# number of links = sum over the adjacency matrix\n",
    "\n",
    "# let's create the matrix to get the sum for the number of links\n",
    "\n",
    "nx.adjacency_matrix(g).toarray()"
   ]
  },
  {
   "cell_type": "code",
   "execution_count": 17,
   "id": "549d55d4",
   "metadata": {},
   "outputs": [
    {
     "name": "stdout",
     "output_type": "stream",
     "text": [
      "1.3333333333333333\n"
     ]
    }
   ],
   "source": [
    "# As clearly can be seen, the sum over the adjacency matrix is 8!\n",
    "# now lets calculate the density: the average degree however is obviously 2 as well as above\n",
    "\n",
    "no_nodes = g.number_of_nodes()\n",
    "\n",
    "density = 2 * 8 /(no_nodes * (no_nodes-1))\n",
    "\n",
    "print(density)"
   ]
  },
  {
   "cell_type": "code",
   "execution_count": null,
   "id": "15d49361",
   "metadata": {},
   "outputs": [],
   "source": [
    "# as can be seen, the density is twice the density compared the formula you provided"
   ]
  }
 ],
 "metadata": {
  "kernelspec": {
   "display_name": "Python 3",
   "language": "python",
   "name": "python3"
  },
  "language_info": {
   "codemirror_mode": {
    "name": "ipython",
    "version": 3
   },
   "file_extension": ".py",
   "mimetype": "text/x-python",
   "name": "python",
   "nbconvert_exporter": "python",
   "pygments_lexer": "ipython3",
   "version": "3.8.8"
  }
 },
 "nbformat": 4,
 "nbformat_minor": 5
}
