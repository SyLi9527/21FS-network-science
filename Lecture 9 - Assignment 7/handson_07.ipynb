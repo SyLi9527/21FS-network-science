{
 "cells": [
  {
   "cell_type": "code",
   "execution_count": 2,
   "id": "a1b4da39",
   "metadata": {},
   "outputs": [],
   "source": [
    "import numpy as np\n",
    "import networkx as nx"
   ]
  },
  {
   "cell_type": "markdown",
   "id": "cb7487d8",
   "metadata": {},
   "source": [
    "## Load the correlation matrix"
   ]
  },
  {
   "cell_type": "code",
   "execution_count": 3,
   "id": "1ff8beb4",
   "metadata": {},
   "outputs": [],
   "source": [
    "cormat = np.load('cormat_1h.npy')"
   ]
  },
  {
   "cell_type": "markdown",
   "id": "1d6b8978",
   "metadata": {},
   "source": [
    "## Eigenvalues and eigenvectors"
   ]
  },
  {
   "cell_type": "code",
   "execution_count": 4,
   "id": "f296ca42",
   "metadata": {},
   "outputs": [],
   "source": [
    "eigval, eigvec = np.linalg.eig(cormat)"
   ]
  },
  {
   "cell_type": "markdown",
   "id": "021100cc",
   "metadata": {},
   "source": [
    "## Setting attributes"
   ]
  },
  {
   "cell_type": "code",
   "execution_count": 5,
   "id": "c9853a87",
   "metadata": {},
   "outputs": [],
   "source": [
    "N = 10\n",
    "nodenames = {0:'Alice', 1:'Bob', 2:'Charlie', 3:'Diana', 4:'Errol', 5:'Flynn', 6:'Grace', 7:'Horace', 8:'Inga', 9:'Luke'}\n",
    "g = nx.gnm_random_graph(10, 15)"
   ]
  },
  {
   "cell_type": "code",
   "execution_count": 6,
   "id": "fd198de9",
   "metadata": {},
   "outputs": [
    {
     "data": {
      "text/plain": [
       "{0: 'Alice',\n",
       " 1: 'Bob',\n",
       " 2: 'Charlie',\n",
       " 3: 'Diana',\n",
       " 4: 'Errol',\n",
       " 5: 'Flynn',\n",
       " 6: 'Grace',\n",
       " 7: 'Horace',\n",
       " 8: 'Inga',\n",
       " 9: 'Luke'}"
      ]
     },
     "execution_count": 6,
     "metadata": {},
     "output_type": "execute_result"
    }
   ],
   "source": [
    "nx.set_node_attributes(g, nodenames, 'name')\n",
    "nx.get_node_attributes(g, 'name')"
   ]
  },
  {
   "cell_type": "code",
   "execution_count": null,
   "id": "d5dcd456",
   "metadata": {},
   "outputs": [],
   "source": []
  }
 ],
 "metadata": {
  "kernelspec": {
   "display_name": "Python 3 (ipykernel)",
   "language": "python",
   "name": "python3"
  },
  "language_info": {
   "codemirror_mode": {
    "name": "ipython",
    "version": 3
   },
   "file_extension": ".py",
   "mimetype": "text/x-python",
   "name": "python",
   "nbconvert_exporter": "python",
   "pygments_lexer": "ipython3",
   "version": "3.8.10"
  }
 },
 "nbformat": 4,
 "nbformat_minor": 5
}
