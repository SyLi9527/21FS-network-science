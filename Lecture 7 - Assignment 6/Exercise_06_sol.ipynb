{
 "cells": [
  {
   "cell_type": "code",
   "execution_count": 2,
   "metadata": {},
   "outputs": [],
   "source": [
    "import networkx as nx\n",
    "import numpy as np\n",
    "from NEMtropy import UndirectedGraph, DirectedGraph\n",
    "from tqdm import tqdm"
   ]
  },
  {
   "cell_type": "code",
   "execution_count": 3,
   "metadata": {},
   "outputs": [
    {
     "data": {
      "text/plain": [
       "array([1992, 1993, 1994, 1995, 1996, 1997, 1998, 1999, 2000, 2001, 2002])"
      ]
     },
     "execution_count": 3,
     "metadata": {},
     "output_type": "execute_result"
    }
   ],
   "source": [
    "yearlist = np.arange(1992, 2003)\n",
    "yearlist"
   ]
  },
  {
   "cell_type": "code",
   "execution_count": 4,
   "metadata": {},
   "outputs": [
    {
     "name": "stderr",
     "output_type": "stream",
     "text": [
      "100%|███████████████████████████████████████████| 11/11 [00:24<00:00,  2.22s/it]\n"
     ]
    }
   ],
   "source": [
    "glist = []\n",
    "reclist = []\n",
    "Uclustlist = []\n",
    "Dclustlist = []\n",
    "Uassorlist = []\n",
    "Dassorlist_i = []\n",
    "Dassorlist_o = []\n",
    "Dassorlist_io = []\n",
    "\n",
    "for year in tqdm(yearlist):\n",
    "    G = nx.read_graphml(f\"data/World_Trade_Web/WDN_{year}.txt.graphml\")\n",
    "    glist.append(G)\n",
    "    reclist.append(nx.reciprocity(G))\n",
    "    Uclustlist.append(nx.average_clustering(G.to_undirected()))\n",
    "    Dclustlist.append(nx.average_clustering(G))\n",
    "    Uassorlist.append(nx.degree_pearson_correlation_coefficient(G.to_undirected(), weight='weight'))\n",
    "    Dassorlist_i.append(nx.degree_pearson_correlation_coefficient(G, 'in', 'in', 'weight'))\n",
    "    Dassorlist_o.append(nx.degree_pearson_correlation_coefficient(G, 'out', 'out', 'weight'))\n",
    "    Dassorlist_io.append(nx.degree_pearson_correlation_coefficient(G, 'in', 'out', 'weight'))"
   ]
  },
  {
   "cell_type": "code",
   "execution_count": 7,
   "metadata": {
    "scrolled": true
   },
   "outputs": [],
   "source": [
    "def DB_analyze(G, nsamp=10):\n",
    "    adj = nx.to_numpy_array(G)\n",
    "    graph_D = DirectedGraph(adj)\n",
    "    graph_D.solve_tool(model=\"dcm_exp\", method=\"newton\", initial_guess='random')\n",
    "    \n",
    "    graph_D.ensemble_sampler(nsamp, output_dir='sample_DB/')\n",
    "    \n",
    "    clustlist = []\n",
    "    reclist = []\n",
    "    for i in range(nsamp):\n",
    "        edgelist_ens = np.loadtxt(f\"sample_DB/{i}.txt\")\n",
    "        net = nx.DiGraph()\n",
    "        net.add_edges_from(edgelist_ens)\n",
    "        clustlist.append(nx.average_clustering(net))\n",
    "        reclist.append(nx.reciprocity(G))\n",
    "        \n",
    "    return np.mean(clustlist), np.mean(reclist)\n",
    "        \n",
    "def UB_analyze(G, nsamp=10):\n",
    "    adj = nx.to_numpy_array(G)\n",
    "    adj_sym = adj + np.transpose(adj)\n",
    "    graph_U = UndirectedGraph(adj_sym)\n",
    "    graph_U.solve_tool(model='cm_exp', method='newton', initial_guess='random')\n",
    "    \n",
    "    graph_U.ensemble_sampler(nsamp, output_dir='sample_UB/')\n",
    "    \n",
    "    clustlist = []\n",
    "    for i in range(nsamp):\n",
    "        edgelist_ens = np.loadtxt(f\"sample_UB/{i}.txt\")\n",
    "        net = nx.DiGraph()\n",
    "        net.add_edges_from(edgelist_ens)\n",
    "        clustlist.append(nx.average_clustering(net))\n",
    "        \n",
    "    return np.mean(clustlist)"
   ]
  },
  {
   "cell_type": "code",
   "execution_count": 8,
   "metadata": {},
   "outputs": [],
   "source": [
    "from NEMtropy.network_functions import build_adjacency_from_edgelist\n",
    "\n",
    "def DW_analyze(G, nsamp=10):\n",
    "    adj = nx.to_numpy_array(G)\n",
    "    graph_D = DirectedGraph(adj)\n",
    "    graph_D.solve_tool(model='crema', method='newton', initial_guess='random',\n",
    "                      max_steps=100000, adjacency='dcm_exp', method_adjacency='newton')\n",
    "    \n",
    "    graph_D.ensemble_sampler(nsamp, output_dir='sample_DW/')\n",
    "    \n",
    "    print(f\"relative error on degree {graph_D.relative_error_degree}\")\n",
    "    print(f\"relative error on strength {graph_D.relative_error_strength}\")\n",
    "    \n",
    "    asslist_i = []\n",
    "    asslist_o = []\n",
    "    asslist_io = []\n",
    "    for i in range(nsamp):\n",
    "        edgelist_ens = np.loadtxt(f\"sample_DW/{i}.txt\")\n",
    "        \n",
    "        ens_adj = build_adjacency_from_edgelist(edgelist = edgelist_ens,\n",
    "                                        is_directed = True,\n",
    "                                        is_sparse = False,\n",
    "                                        is_weighted = True)\n",
    "        net = nx.from_numpy_array(ens_adj)\n",
    "        asslist_i.append(nx.degree_pearson_correlation_coefficient(net, 'in', 'in', 'weight'))\n",
    "        asslist_io.append(nx.degree_pearson_correlation_coefficient(net, 'in', 'out', 'weight'))\n",
    "        asslist_o.append(nx.degree_pearson_correlation_coefficient(net, 'out', 'out', 'weight'))\n",
    "        \n",
    "    return np.mean(asslist_i), np.mean(asslist_o), np.mean(asslist_io)\n",
    "    \n",
    "def UW_analyze(G, nsamp=10):\n",
    "    adj = nx.to_numpy_array(G)\n",
    "    adj_sym = adj + np.transpose(adj)\n",
    "    graph_U = UndirectedGraph(adj_sym)\n",
    "    graph_U.solve_tool(model='crema', method='newton', initial_guess='random',\n",
    "                      max_steps=100000, adjacency='cm_exp', method_adjacency='newton')\n",
    "    \n",
    "    graph_U.ensemble_sampler(nsamp, output_dir='sample_UW/')\n",
    "    \n",
    "    print(f\"relative error on degree {graph_U.relative_error_degree}\")\n",
    "    print(f\"relative error on strength {graph_U.relative_error_strength}\")\n",
    "    \n",
    "    asslist = []\n",
    "    for i in range(nsamp):\n",
    "        edgelist_ens = np.loadtxt(f\"sample_UW/{i}.txt\")\n",
    "        \n",
    "        ens_adj = build_adjacency_from_edgelist(edgelist = edgelist_ens,\n",
    "                                        is_directed = False,\n",
    "                                        is_sparse = False,\n",
    "                                        is_weighted = True)\n",
    "        net = nx.from_numpy_array(ens_adj)\n",
    "        \n",
    "        asslist.append(nx.degree_pearson_correlation_coefficient(net, weight='weight'))\n",
    "        \n",
    "    return np.mean(asslist)"
   ]
  },
  {
   "cell_type": "code",
   "execution_count": 9,
   "metadata": {},
   "outputs": [
    {
     "name": "stderr",
     "output_type": "stream",
     "text": [
      "  0%|                                                    | 0/11 [00:00<?, ?it/s]/home/carlo/anaconda3/lib/python3.8/site-packages/numba/core/utils.py:451: NumbaExperimentalFeatureWarning: \u001b[1mFirst-class function type feature is experimental\u001b[0m\n",
      "  warnings.warn(\"First-class function type feature is experimental\",\n",
      "/home/carlo/anaconda3/lib/python3.8/site-packages/NEMtropy/models_functions.py:3181: NumbaExperimentalFeatureWarning: \u001b[1m\u001b[1mFirst-class function type feature is experimental\u001b[0m\u001b[0m\n",
      "  step_fun = args[0]\n",
      "/home/carlo/anaconda3/lib/python3.8/site-packages/NEMtropy/models_functions.py:3182: NumbaExperimentalFeatureWarning: \u001b[1m\u001b[1mFirst-class function type feature is experimental\u001b[0m\u001b[0m\n",
      "  arg_step_fun = args[1]\n",
      "/home/carlo/anaconda3/lib/python3.8/site-packages/numba/core/utils.py:451: NumbaExperimentalFeatureWarning: \u001b[1mFirst-class function type feature is experimental\u001b[0m\n",
      "  warnings.warn(\"First-class function type feature is experimental\",\n"
     ]
    },
    {
     "name": "stdout",
     "output_type": "stream",
     "text": [
      "\n",
      "solution error = 1.321097897744039e-09\n"
     ]
    },
    {
     "name": "stderr",
     "output_type": "stream",
     "text": [
      "/home/carlo/anaconda3/lib/python3.8/site-packages/numba/core/utils.py:451: NumbaExperimentalFeatureWarning: \u001b[1mFirst-class function type feature is experimental\u001b[0m\n",
      "  warnings.warn(\"First-class function type feature is experimental\",\n",
      "/home/carlo/anaconda3/lib/python3.8/site-packages/NEMtropy/models_functions.py:461: NumbaExperimentalFeatureWarning: \u001b[1m\u001b[1mFirst-class function type feature is experimental\u001b[0m\u001b[0m\n",
      "  step_fun = args[0]\n",
      "/home/carlo/anaconda3/lib/python3.8/site-packages/NEMtropy/models_functions.py:462: NumbaExperimentalFeatureWarning: \u001b[1m\u001b[1mFirst-class function type feature is experimental\u001b[0m\u001b[0m\n",
      "  arg_step_fun = args[1]\n"
     ]
    },
    {
     "name": "stdout",
     "output_type": "stream",
     "text": [
      "\n",
      "solution error = 7.749264341327944e-09\n"
     ]
    },
    {
     "name": "stderr",
     "output_type": "stream",
     "text": [
      "/home/carlo/anaconda3/lib/python3.8/site-packages/numba/core/utils.py:451: NumbaExperimentalFeatureWarning: \u001b[1mFirst-class function type feature is experimental\u001b[0m\n",
      "  warnings.warn(\"First-class function type feature is experimental\",\n",
      "/home/carlo/anaconda3/lib/python3.8/site-packages/numba/core/utils.py:451: NumbaExperimentalFeatureWarning: \u001b[1mFirst-class function type feature is experimental\u001b[0m\n",
      "  warnings.warn(\"First-class function type feature is experimental\",\n",
      "/home/carlo/anaconda3/lib/python3.8/site-packages/numba/core/utils.py:451: NumbaExperimentalFeatureWarning: \u001b[1mFirst-class function type feature is experimental\u001b[0m\n",
      "  warnings.warn(\"First-class function type feature is experimental\",\n",
      "/home/carlo/anaconda3/lib/python3.8/site-packages/NEMtropy/models_functions.py:4515: NumbaExperimentalFeatureWarning: \u001b[1m\u001b[1mFirst-class function type feature is experimental\u001b[0m\u001b[0m\n",
      "  step_fun = args[0]\n",
      "/home/carlo/anaconda3/lib/python3.8/site-packages/NEMtropy/models_functions.py:4516: NumbaExperimentalFeatureWarning: \u001b[1m\u001b[1mFirst-class function type feature is experimental\u001b[0m\u001b[0m\n",
      "  arg_step_fun = args[1]\n",
      "/home/carlo/anaconda3/lib/python3.8/site-packages/numba/core/utils.py:451: NumbaExperimentalFeatureWarning: \u001b[1mFirst-class function type feature is experimental\u001b[0m\n",
      "  warnings.warn(\"First-class function type feature is experimental\",\n"
     ]
    },
    {
     "name": "stdout",
     "output_type": "stream",
     "text": [
      "\n",
      "solution error = 337716.6877441406\n",
      "relative error on degree 3.670364012720029e-11\n",
      "relative error on strength 1.4289323166639217e-06\n"
     ]
    },
    {
     "name": "stderr",
     "output_type": "stream",
     "text": [
      "/home/carlo/anaconda3/lib/python3.8/site-packages/numba/core/utils.py:451: NumbaExperimentalFeatureWarning: \u001b[1mFirst-class function type feature is experimental\u001b[0m\n",
      "  warnings.warn(\"First-class function type feature is experimental\",\n",
      "/home/carlo/anaconda3/lib/python3.8/site-packages/numba/core/utils.py:451: NumbaExperimentalFeatureWarning: \u001b[1mFirst-class function type feature is experimental\u001b[0m\n",
      "  warnings.warn(\"First-class function type feature is experimental\",\n",
      "/home/carlo/anaconda3/lib/python3.8/site-packages/NEMtropy/models_functions.py:1554: NumbaExperimentalFeatureWarning: \u001b[1m\u001b[1mFirst-class function type feature is experimental\u001b[0m\u001b[0m\n",
      "  step_fun = args[0]\n",
      "/home/carlo/anaconda3/lib/python3.8/site-packages/NEMtropy/models_functions.py:1555: NumbaExperimentalFeatureWarning: \u001b[1m\u001b[1mFirst-class function type feature is experimental\u001b[0m\u001b[0m\n",
      "  arg_step_fun = args[1]\n",
      "/home/carlo/anaconda3/lib/python3.8/site-packages/numba/core/utils.py:451: NumbaExperimentalFeatureWarning: \u001b[1mFirst-class function type feature is experimental\u001b[0m\n",
      "  warnings.warn(\"First-class function type feature is experimental\",\n"
     ]
    },
    {
     "name": "stdout",
     "output_type": "stream",
     "text": [
      "\n",
      "solution error = 4.518388704396784\n",
      "relative error on degree 5.613387532577008e-11\n",
      "relative error on strength 1.2871721467138297e-06\n"
     ]
    },
    {
     "name": "stderr",
     "output_type": "stream",
     "text": [
      "\r",
      "  9%|████                                        | 1/11 [00:35<05:57, 35.74s/it]"
     ]
    },
    {
     "name": "stdout",
     "output_type": "stream",
     "text": [
      "\n",
      "solution error = 5.407173375715502e-09\n"
     ]
    },
    {
     "name": "stderr",
     "output_type": "stream",
     "text": [
      "/home/carlo/anaconda3/lib/python3.8/site-packages/numba/core/utils.py:451: NumbaExperimentalFeatureWarning: \u001b[1mFirst-class function type feature is experimental\u001b[0m\n",
      "  warnings.warn(\"First-class function type feature is experimental\",\n"
     ]
    },
    {
     "name": "stdout",
     "output_type": "stream",
     "text": [
      "\n",
      "solution error = 5.526146651391173e-09\n",
      "\n",
      "solution error = 128274.93920898438\n",
      "relative error on degree 2.427945581210359e-10\n",
      "relative error on strength 0.0016815894956316493\n",
      "\n",
      "solution error = 21.82696990855038\n",
      "relative error on degree 5.468562976189291e-11\n",
      "relative error on strength 1.5317673855382054e-06\n"
     ]
    },
    {
     "name": "stderr",
     "output_type": "stream",
     "text": [
      "\r",
      " 18%|████████                                    | 2/11 [01:06<04:55, 32.84s/it]"
     ]
    },
    {
     "name": "stdout",
     "output_type": "stream",
     "text": [
      "\n",
      "solution error = 2.164171064578113e-09\n",
      "\n",
      "solution error = 3.908382950612577e-09\n",
      "\n",
      "solution error = 127697.61108398438\n",
      "relative error on degree 7.327040561579321e-11\n",
      "relative error on strength 4.2332747023777464e-07\n",
      "\n",
      "solution error = 0.16987245623022318\n",
      "relative error on degree 8.049840159531283e-11\n",
      "relative error on strength 2.4057298258774042e-08\n"
     ]
    },
    {
     "name": "stderr",
     "output_type": "stream",
     "text": [
      "\r",
      " 27%|████████████                                | 3/11 [01:42<04:35, 34.44s/it]"
     ]
    },
    {
     "name": "stdout",
     "output_type": "stream",
     "text": [
      "\n",
      "solution error = 3.5568668010910187e-09\n",
      "\n",
      "solution error = 1.5963621535775019e-09\n",
      "\n",
      "solution error = 114193.56439208984\n",
      "relative error on degree 1.8521223202459743e-10\n",
      "relative error on strength 0.0011513330135007414\n",
      "\n",
      "solution error = 488.6890812218189\n",
      "relative error on degree 2.3527085042068004e-11\n",
      "relative error on strength 1.0706913317697843e-05\n"
     ]
    },
    {
     "name": "stderr",
     "output_type": "stream",
     "text": [
      "\r",
      " 36%|████████████████                            | 4/11 [02:26<04:25, 37.98s/it]"
     ]
    },
    {
     "name": "stdout",
     "output_type": "stream",
     "text": [
      "\n",
      "solution error = 2.0547297197026637e-09\n",
      "\n",
      "solution error = 2.029167944783694e-09\n",
      "\n",
      "solution error = 107513.63934326172\n",
      "relative error on degree 1.0590781585051446e-10\n",
      "relative error on strength 0.00013897493231313375\n",
      "\n",
      "solution error = 383.4201544523239\n",
      "relative error on degree 4.056246247976312e-11\n",
      "relative error on strength 9.620661848483742e-07\n"
     ]
    },
    {
     "name": "stderr",
     "output_type": "stream",
     "text": [
      "\r",
      " 45%|████████████████████                        | 5/11 [03:12<04:06, 41.12s/it]"
     ]
    },
    {
     "name": "stdout",
     "output_type": "stream",
     "text": [
      "\n",
      "solution error = 1.92545712707215e-09\n",
      "\n",
      "solution error = 1.1764313967432827e-09\n",
      "\n",
      "solution error = 97789.20123291016\n",
      "relative error on degree 5.6975132430899843e-11\n",
      "relative error on strength 0.0003595129836395908\n",
      "\n",
      "solution error = 126.97394162602723\n",
      "relative error on degree 2.5360691324749495e-11\n",
      "relative error on strength 7.596448274174105e-06\n"
     ]
    },
    {
     "name": "stderr",
     "output_type": "stream",
     "text": [
      "\r",
      " 55%|████████████████████████                    | 6/11 [04:02<03:40, 44.08s/it]"
     ]
    },
    {
     "name": "stdout",
     "output_type": "stream",
     "text": [
      "\n",
      "solution error = 3.4588936159707373e-09\n",
      "\n",
      "solution error = 1.299497398576932e-09\n",
      "\n",
      "solution error = 314136.78326416016\n",
      "relative error on degree 7.121309303565121e-11\n",
      "relative error on strength 0.0003211484636275996\n",
      "\n",
      "solution error = 38.15105362609029\n",
      "relative error on degree 8.354624366955378e-11\n",
      "relative error on strength 2.3994951341337524e-06\n"
     ]
    },
    {
     "name": "stderr",
     "output_type": "stream",
     "text": [
      "\r",
      " 64%|████████████████████████████                | 7/11 [04:52<03:03, 45.75s/it]"
     ]
    },
    {
     "name": "stdout",
     "output_type": "stream",
     "text": [
      "\n",
      "solution error = 2.379636043770006e-09\n",
      "\n",
      "solution error = 1.0958842722175177e-09\n",
      "\n",
      "solution error = 203190.64239501953\n",
      "relative error on degree 9.666030938622801e-11\n",
      "relative error on strength 5.011404994940541e-05\n",
      "\n",
      "solution error = 6061.089232631028\n",
      "relative error on degree 1.527946023673264e-11\n",
      "relative error on strength 0.00011109940254350332\n"
     ]
    },
    {
     "name": "stderr",
     "output_type": "stream",
     "text": [
      "\r",
      " 73%|████████████████████████████████            | 8/11 [05:46<02:25, 48.41s/it]"
     ]
    },
    {
     "name": "stdout",
     "output_type": "stream",
     "text": [
      "\n",
      "solution error = 4.170264134017998e-09\n",
      "\n",
      "solution error = 1.5952821286191465e-09\n",
      "\n",
      "solution error = 146470.8162841797\n",
      "relative error on degree 1.0984146925352434e-10\n",
      "relative error on strength 1.640346703923907e-05\n",
      "\n",
      "solution error = 946.5862387642264\n",
      "relative error on degree 2.0811938838960486e-11\n",
      "relative error on strength 4.761939021564897e-05\n"
     ]
    },
    {
     "name": "stderr",
     "output_type": "stream",
     "text": [
      "\r",
      " 82%|████████████████████████████████████        | 9/11 [06:39<01:39, 49.88s/it]"
     ]
    },
    {
     "name": "stdout",
     "output_type": "stream",
     "text": [
      "\n",
      "solution error = 3.346727339703648e-09\n",
      "\n",
      "solution error = 7.307249916266301e-09\n",
      "\n",
      "solution error = 212115.64794921875\n",
      "relative error on degree 1.2165418431085646e-10\n",
      "relative error on strength 3.6181870648749574e-07\n",
      "\n",
      "solution error = 1437.240082345903\n",
      "relative error on degree 3.079395123988084e-11\n",
      "relative error on strength 3.842218819877445e-05\n"
     ]
    },
    {
     "name": "stderr",
     "output_type": "stream",
     "text": [
      "\r",
      " 91%|███████████████████████████████████████    | 10/11 [07:34<00:51, 51.43s/it]"
     ]
    },
    {
     "name": "stdout",
     "output_type": "stream",
     "text": [
      "\n",
      "solution error = 2.768544504760939e-09\n",
      "\n",
      "solution error = 2.510432750568725e-09\n",
      "\n",
      "solution error = 211617.81176757812\n",
      "relative error on degree 1.8792378179903992e-10\n",
      "relative error on strength 0.0004577134231303436\n",
      "\n",
      "solution error = 286.79922776296735\n",
      "relative error on degree 4.539799647318432e-11\n",
      "relative error on strength 9.982135749231346e-06\n"
     ]
    },
    {
     "name": "stderr",
     "output_type": "stream",
     "text": [
      "100%|███████████████████████████████████████████| 11/11 [08:27<00:00, 46.17s/it]\n"
     ]
    }
   ],
   "source": [
    "DBclust = []\n",
    "Brec = []\n",
    "UBclust = []\n",
    "DWass_i = []\n",
    "DWass_o = []\n",
    "DWass_io = []\n",
    "UWass = []\n",
    "\n",
    "for G in tqdm(glist):\n",
    "    DBclust_samp, Brec_samp = DB_analyze(G)\n",
    "    DBclust.append(DBclust_samp)\n",
    "    Brec.append(Brec_samp)\n",
    "    \n",
    "    UBclust.append(UB_analyze(G))\n",
    "    \n",
    "    DWass_i_samp, DWass_o_samp, DWass_io_samp = DW_analyze(G)\n",
    "    DWass_i.append(DWass_i_samp)\n",
    "    DWass_o.append(DWass_o_samp)\n",
    "    DWass_io.append(DWass_io_samp)\n",
    "    \n",
    "    UWass.append(UW_analyze(G))"
   ]
  },
  {
   "cell_type": "code",
   "execution_count": 10,
   "metadata": {},
   "outputs": [
    {
     "data": {
      "image/png": "[encoded data removed]",
      "text/plain": [
       "<Figure size 1440x1080 with 8 Axes>"
      ]
     },
     "metadata": {
      "needs_background": "light"
     },
     "output_type": "display_data"
    }
   ],
   "source": [
    "import matplotlib.pyplot as plt\n",
    "\n",
    "fig, axs = plt.subplots(4, 2, constrained_layout=True, figsize=(20,15))\n",
    "\n",
    "axs[0,0].scatter(yearlist, Dclustlist, label=\"Data\", s=20, alpha=0.8)\n",
    "axs[0,0].scatter(yearlist, DBclust, label='sampled', s=20, alpha=0.8)\n",
    "axs[0,0].set_xlabel(\"year\")\n",
    "axs[0,0].set_ylabel(\"Directed Clustering\")\n",
    "axs[0,0].set_ylim((0,1))\n",
    "legend = axs[0,0].legend(loc='best', frameon=True, shadow=False, fontsize=20,ncol=1)\n",
    "\n",
    "axs[0,1].scatter(yearlist, Uclustlist, label=\"Data\", s=20, alpha=0.8)\n",
    "axs[0,1].scatter(yearlist, UBclust, label='sampled', s=20, alpha=0.8)\n",
    "axs[0,1].set_xlabel(\"year\")\n",
    "axs[0,1].set_ylabel(\"Undirected Clustering\")\n",
    "axs[0,1].set_ylim((0,1))\n",
    "legend = axs[0,1].legend(loc='best', frameon=True, shadow=False, fontsize=20,ncol=1)\n",
    "\n",
    "axs[1,0].scatter(yearlist, reclist, label=\"Data\", s=20, alpha=0.8)\n",
    "axs[1,0].scatter(yearlist, Brec, label='sampled', s=20, alpha=0.8)\n",
    "axs[1,0].set_xlabel(\"year\")\n",
    "axs[1,0].set_ylabel(\"Reciprocity\")\n",
    "axs[1,0].set_ylim((-1,1))\n",
    "legend = axs[1,0].legend(loc='best', frameon=True, shadow=False, fontsize=20,ncol=1)\n",
    "\n",
    "axs[1,1].scatter(yearlist, Dassorlist_i, label=\"Data\", s=20, alpha=0.8)\n",
    "axs[1,1].scatter(yearlist, DWass_i, label='sampled', s=20, alpha=0.8)\n",
    "axs[1,1].set_xlabel(\"year\")\n",
    "axs[1,1].set_ylabel(\"In-strength assortativity\")\n",
    "axs[1,1].set_ylim((-1,1))\n",
    "legend = axs[1,1].legend(loc='best', frameon=True, shadow=False, fontsize=20,ncol=1)\n",
    "\n",
    "axs[2,0].scatter(yearlist, Dassorlist_o, label=\"Data\", s=20, alpha=0.8)\n",
    "axs[2,0].scatter(yearlist, DWass_o, label='sampled', s=20, alpha=0.8)\n",
    "axs[2,0].set_xlabel(\"year\")\n",
    "axs[2,0].set_ylabel(\"Out-strength assortativity\")\n",
    "axs[2,0].set_ylim((-1,1))\n",
    "legend = axs[2,0].legend(loc='best', frameon=True, shadow=False, fontsize=20,ncol=1)\n",
    "\n",
    "axs[2,1].scatter(yearlist, Dassorlist_io, label=\"Data\", s=20, alpha=0.8)\n",
    "axs[2,1].scatter(yearlist, DWass_io, label='sampled', s=20, alpha=0.8)\n",
    "axs[2,1].set_xlabel(\"year\")\n",
    "axs[2,1].set_ylabel(\"InOut-strength assortativity\")\n",
    "axs[2,1].set_ylim((-1,1))\n",
    "legend = axs[2,1].legend(loc='best', frameon=True, shadow=False, fontsize=20,ncol=1)\n",
    "\n",
    "axs[3,0].scatter(yearlist, Uassorlist, label=\"Data\", s=20, alpha=0.8)\n",
    "axs[3,0].scatter(yearlist, UWass, label=\"sampled\", s=20, alpha=0.8)\n",
    "axs[3,0].set_xlabel(\"year\")\n",
    "axs[3,0].set_ylabel(\"Undirected strength assortativity\")\n",
    "axs[3,0].set_ylim((-1,1))\n",
    "legend = axs[3,0].legend(loc='best', frameon=True, shadow=False, fontsize=20,ncol=1)"
   ]
  },
  {
   "cell_type": "code",
   "execution_count": null,
   "metadata": {},
   "outputs": [],
   "source": []
  }
 ],
 "metadata": {
  "kernelspec": {
   "display_name": "Python 3",
   "language": "python",
   "name": "python3"
  },
  "language_info": {
   "codemirror_mode": {
    "name": "ipython",
    "version": 3
   },
   "file_extension": ".py",
   "mimetype": "text/x-python",
   "name": "python",
   "nbconvert_exporter": "python",
   "pygments_lexer": "ipython3",
   "version": "3.8.5"
  }
 },
 "nbformat": 4,
 "nbformat_minor": 5
}
